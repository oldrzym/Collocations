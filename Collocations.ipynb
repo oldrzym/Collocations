{
 "cells": [
  {
   "cell_type": "code",
   "execution_count": 9,
   "id": "76eeb70a",
   "metadata": {},
   "outputs": [],
   "source": [
    "import nltk\n",
    "from nltk.collocations import BigramCollocationFinder\n",
    "from nltk.metrics import BigramAssocMeasures\n",
    "from nltk.corpus import stopwords\n",
    "import pymorphy2"
   ]
  },
  {
   "cell_type": "code",
   "execution_count": 3,
   "id": "6812b70c",
   "metadata": {},
   "outputs": [
    {
     "name": "stderr",
     "output_type": "stream",
     "text": [
      "[nltk_data] Downloading package punkt to\n",
      "[nltk_data]     C:\\Users\\costy\\AppData\\Roaming\\nltk_data...\n",
      "[nltk_data]   Unzipping tokenizers\\punkt.zip.\n",
      "[nltk_data] Downloading package stopwords to\n",
      "[nltk_data]     C:\\Users\\costy\\AppData\\Roaming\\nltk_data...\n",
      "[nltk_data]   Unzipping corpora\\stopwords.zip.\n"
     ]
    },
    {
     "data": {
      "text/plain": [
       "True"
      ]
     },
     "execution_count": 3,
     "metadata": {},
     "output_type": "execute_result"
    }
   ],
   "source": [
    "nltk.download('punkt')  \n",
    "nltk.download('stopwords')  "
   ]
  },
  {
   "cell_type": "code",
   "execution_count": 4,
   "id": "7cc0de2a",
   "metadata": {},
   "outputs": [],
   "source": [
    "stopset = set(stopwords.words('russian'))"
   ]
  },
  {
   "cell_type": "code",
   "execution_count": 10,
   "id": "e265d89c",
   "metadata": {},
   "outputs": [],
   "source": [
    "morph = pymorphy2.MorphAnalyzer()"
   ]
  },
  {
   "cell_type": "code",
   "execution_count": 26,
   "id": "f9f267de",
   "metadata": {},
   "outputs": [],
   "source": [
    "with open('gogol.txt', encoding='utf8') as f:\n",
    "    contents = f.read()"
   ]
  },
  {
   "cell_type": "code",
   "execution_count": 29,
   "id": "7dec90c2",
   "metadata": {},
   "outputs": [],
   "source": [
    "words = nltk.word_tokenize(contents)"
   ]
  },
  {
   "cell_type": "code",
   "execution_count": 31,
   "id": "31146936",
   "metadata": {},
   "outputs": [],
   "source": [
    "words = [morph.parse(word)[0].normal_form for word in words if word.isalpha() if word.lower() not in stopset]"
   ]
  },
  {
   "cell_type": "code",
   "execution_count": 33,
   "id": "24e0e00e",
   "metadata": {},
   "outputs": [],
   "source": [
    "bigram_measures = BigramAssocMeasures()\n",
    "finder = BigramCollocationFinder.from_words(words)"
   ]
  },
  {
   "cell_type": "code",
   "execution_count": 34,
   "id": "057ab689",
   "metadata": {},
   "outputs": [
    {
     "name": "stdout",
     "output_type": "stream",
     "text": [
      "[('bon', 'mot'), ('dominus', 'лата'), ('mot', 'острота'), ('аккуратный', 'износить'), ('арбуз', 'дыня'), ('арбузный', 'семечко'), ('бабка', 'свистелка'), ('бабёнка', 'плотно'), ('барвинок', 'гирлянда'), ('бегать', 'впопыхах'), ('бережливый', 'аккуратный'), ('березняк', 'баня'), ('беспрерывно', 'поплёвывать'), ('бесстрашно', 'разбрызгивать'), ('бесчувственный', 'отбросить'), ('бисер', 'обсыпать'), ('бледность', 'придавать'), ('болезненно', 'ныть'), ('болтовня', 'овладевать'), ('бонмотистый', 'остряк')]\n"
     ]
    }
   ],
   "source": [
    "top_20 = finder.nbest(bigram_measures.pmi, 20)\n",
    "print(top_20)"
   ]
  },
  {
   "cell_type": "code",
   "execution_count": null,
   "id": "8049c56a",
   "metadata": {},
   "outputs": [],
   "source": []
  }
 ],
 "metadata": {
  "kernelspec": {
   "display_name": "Python 3 (ipykernel)",
   "language": "python",
   "name": "python3"
  },
  "language_info": {
   "codemirror_mode": {
    "name": "ipython",
    "version": 3
   },
   "file_extension": ".py",
   "mimetype": "text/x-python",
   "name": "python",
   "nbconvert_exporter": "python",
   "pygments_lexer": "ipython3",
   "version": "3.10.3"
  }
 },
 "nbformat": 4,
 "nbformat_minor": 5
}
