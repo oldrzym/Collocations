{
 "cells": [
  {
   "cell_type": "code",
   "execution_count": 37,
   "id": "5e1791fa",
   "metadata": {},
   "outputs": [],
   "source": [
    "import nltk\n",
    "from nltk.collocations import BigramCollocationFinder\n",
    "from nltk.metrics import BigramAssocMeasures\n",
    "from nltk.corpus import stopwords\n",
    "import pymorphy2\n",
    "import pandas as pd"
   ]
  },
  {
   "cell_type": "code",
   "execution_count": 3,
   "id": "0db9a1d1",
   "metadata": {},
   "outputs": [
    {
     "name": "stderr",
     "output_type": "stream",
     "text": [
      "[nltk_data] Downloading package punkt to\n",
      "[nltk_data]     C:\\Users\\costy\\AppData\\Roaming\\nltk_data...\n",
      "[nltk_data]   Unzipping tokenizers\\punkt.zip.\n",
      "[nltk_data] Downloading package stopwords to\n",
      "[nltk_data]     C:\\Users\\costy\\AppData\\Roaming\\nltk_data...\n",
      "[nltk_data]   Unzipping corpora\\stopwords.zip.\n"
     ]
    },
    {
     "data": {
      "text/plain": [
       "True"
      ]
     },
     "execution_count": 3,
     "metadata": {},
     "output_type": "execute_result"
    }
   ],
   "source": [
    "nltk.download('punkt')  \n",
    "nltk.download('stopwords')  "
   ]
  },
  {
   "cell_type": "code",
   "execution_count": 4,
   "id": "9af0cbc7",
   "metadata": {},
   "outputs": [],
   "source": [
    "stopset = set(stopwords.words('russian'))"
   ]
  },
  {
   "cell_type": "code",
   "execution_count": 10,
   "id": "03979032",
   "metadata": {},
   "outputs": [],
   "source": [
    "morph = pymorphy2.MorphAnalyzer()"
   ]
  },
  {
   "cell_type": "code",
   "execution_count": 26,
   "id": "9399e6cf",
   "metadata": {},
   "outputs": [],
   "source": [
    "with open('gogol.txt', encoding='utf8') as f:\n",
    "    contents = f.read()"
   ]
  },
  {
   "cell_type": "code",
   "execution_count": 29,
   "id": "856ec93f",
   "metadata": {},
   "outputs": [],
   "source": [
    "words = nltk.word_tokenize(contents)"
   ]
  },
  {
   "cell_type": "code",
   "execution_count": 31,
   "id": "7dd33097",
   "metadata": {},
   "outputs": [],
   "source": [
    "words = [morph.parse(word)[0].normal_form for word in words if word.isalpha() if word.lower() not in stopset]"
   ]
  },
  {
   "cell_type": "code",
   "execution_count": 33,
   "id": "04aaa9b9",
   "metadata": {},
   "outputs": [],
   "source": [
    "bigram_measures = BigramAssocMeasures()\n",
    "finder = BigramCollocationFinder.from_words(words)"
   ]
  },
  {
   "cell_type": "code",
   "execution_count": 39,
   "id": "b8df3507",
   "metadata": {},
   "outputs": [],
   "source": [
    "collocations = finder.score_ngrams(bigram_measures.pmi)"
   ]
  },
  {
   "cell_type": "code",
   "execution_count": 40,
   "id": "735e9a59",
   "metadata": {},
   "outputs": [],
   "source": [
    "collocations = pd.DataFrame.from_dict(collocations)"
   ]
  },
  {
   "cell_type": "code",
   "execution_count": 41,
   "id": "412652a8",
   "metadata": {},
   "outputs": [
    {
     "data": {
      "text/html": [
       "<div>\n",
       "<style scoped>\n",
       "    .dataframe tbody tr th:only-of-type {\n",
       "        vertical-align: middle;\n",
       "    }\n",
       "\n",
       "    .dataframe tbody tr th {\n",
       "        vertical-align: top;\n",
       "    }\n",
       "\n",
       "    .dataframe thead th {\n",
       "        text-align: right;\n",
       "    }\n",
       "</style>\n",
       "<table border=\"1\" class=\"dataframe\">\n",
       "  <thead>\n",
       "    <tr style=\"text-align: right;\">\n",
       "      <th></th>\n",
       "      <th>0</th>\n",
       "      <th>1</th>\n",
       "    </tr>\n",
       "  </thead>\n",
       "  <tbody>\n",
       "    <tr>\n",
       "      <th>0</th>\n",
       "      <td>(bon, mot)</td>\n",
       "      <td>12.812578</td>\n",
       "    </tr>\n",
       "    <tr>\n",
       "      <th>1</th>\n",
       "      <td>(dominus, лата)</td>\n",
       "      <td>12.812578</td>\n",
       "    </tr>\n",
       "    <tr>\n",
       "      <th>2</th>\n",
       "      <td>(mot, острота)</td>\n",
       "      <td>12.812578</td>\n",
       "    </tr>\n",
       "    <tr>\n",
       "      <th>3</th>\n",
       "      <td>(аккуратный, износить)</td>\n",
       "      <td>12.812578</td>\n",
       "    </tr>\n",
       "    <tr>\n",
       "      <th>4</th>\n",
       "      <td>(арбуз, дыня)</td>\n",
       "      <td>12.812578</td>\n",
       "    </tr>\n",
       "    <tr>\n",
       "      <th>...</th>\n",
       "      <td>...</td>\n",
       "      <td>...</td>\n",
       "    </tr>\n",
       "    <tr>\n",
       "      <th>6814</th>\n",
       "      <td>(философ, весь)</td>\n",
       "      <td>0.489242</td>\n",
       "    </tr>\n",
       "    <tr>\n",
       "      <th>6815</th>\n",
       "      <td>(философ, это)</td>\n",
       "      <td>0.292205</td>\n",
       "    </tr>\n",
       "    <tr>\n",
       "      <th>6816</th>\n",
       "      <td>(философ, который)</td>\n",
       "      <td>0.091907</td>\n",
       "    </tr>\n",
       "    <tr>\n",
       "      <th>6817</th>\n",
       "      <td>(философ, сказать)</td>\n",
       "      <td>-0.282489</td>\n",
       "    </tr>\n",
       "    <tr>\n",
       "      <th>6818</th>\n",
       "      <td>(свой, философ)</td>\n",
       "      <td>-0.419992</td>\n",
       "    </tr>\n",
       "  </tbody>\n",
       "</table>\n",
       "<p>6819 rows × 2 columns</p>\n",
       "</div>"
      ],
      "text/plain": [
       "                           0          1\n",
       "0                 (bon, mot)  12.812578\n",
       "1            (dominus, лата)  12.812578\n",
       "2             (mot, острота)  12.812578\n",
       "3     (аккуратный, износить)  12.812578\n",
       "4              (арбуз, дыня)  12.812578\n",
       "...                      ...        ...\n",
       "6814         (философ, весь)   0.489242\n",
       "6815          (философ, это)   0.292205\n",
       "6816      (философ, который)   0.091907\n",
       "6817      (философ, сказать)  -0.282489\n",
       "6818         (свой, философ)  -0.419992\n",
       "\n",
       "[6819 rows x 2 columns]"
      ]
     },
     "execution_count": 41,
     "metadata": {},
     "output_type": "execute_result"
    }
   ],
   "source": [
    "collocations"
   ]
  },
  {
   "cell_type": "code",
   "execution_count": null,
   "id": "9d1f1450",
   "metadata": {},
   "outputs": [],
   "source": []
  }
 ],
 "metadata": {
  "kernelspec": {
   "display_name": "Python 3 (ipykernel)",
   "language": "python",
   "name": "python3"
  },
  "language_info": {
   "codemirror_mode": {
    "name": "ipython",
    "version": 3
   },
   "file_extension": ".py",
   "mimetype": "text/x-python",
   "name": "python",
   "nbconvert_exporter": "python",
   "pygments_lexer": "ipython3",
   "version": "3.10.3"
  }
 },
 "nbformat": 4,
 "nbformat_minor": 5
}
